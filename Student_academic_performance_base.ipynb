{
 "cells": [
  {
   "cell_type": "code",
   "execution_count": 1,
   "id": "0f3c8433",
   "metadata": {},
   "outputs": [],
   "source": [
    "import numpy as np\n",
    "import pandas as pd\n",
    "import matplotlib.pyplot as plt\n",
    "import seaborn as sns"
   ]
  },
  {
   "cell_type": "code",
   "execution_count": 2,
   "id": "efd10fe7",
   "metadata": {},
   "outputs": [],
   "source": [
    "df = pd.read_csv(\"D:\\\\Downloads\\\\xAPI-Edu-Data.csv\")"
   ]
  },
  {
   "cell_type": "code",
   "execution_count": 3,
   "id": "ffe887b9",
   "metadata": {},
   "outputs": [
    {
     "data": {
      "text/html": [
       "<div>\n",
       "<style scoped>\n",
       "    .dataframe tbody tr th:only-of-type {\n",
       "        vertical-align: middle;\n",
       "    }\n",
       "\n",
       "    .dataframe tbody tr th {\n",
       "        vertical-align: top;\n",
       "    }\n",
       "\n",
       "    .dataframe thead th {\n",
       "        text-align: right;\n",
       "    }\n",
       "</style>\n",
       "<table border=\"1\" class=\"dataframe\">\n",
       "  <thead>\n",
       "    <tr style=\"text-align: right;\">\n",
       "      <th></th>\n",
       "      <th>gender</th>\n",
       "      <th>NationalITy</th>\n",
       "      <th>PlaceofBirth</th>\n",
       "      <th>StageID</th>\n",
       "      <th>GradeID</th>\n",
       "      <th>SectionID</th>\n",
       "      <th>Topic</th>\n",
       "      <th>Semester</th>\n",
       "      <th>Relation</th>\n",
       "      <th>raisedhands</th>\n",
       "      <th>VisITedResources</th>\n",
       "      <th>AnnouncementsView</th>\n",
       "      <th>Discussion</th>\n",
       "      <th>ParentAnsweringSurvey</th>\n",
       "      <th>ParentschoolSatisfaction</th>\n",
       "      <th>StudentAbsenceDays</th>\n",
       "      <th>Class</th>\n",
       "    </tr>\n",
       "  </thead>\n",
       "  <tbody>\n",
       "    <tr>\n",
       "      <th>0</th>\n",
       "      <td>M</td>\n",
       "      <td>KW</td>\n",
       "      <td>KuwaIT</td>\n",
       "      <td>lowerlevel</td>\n",
       "      <td>G-04</td>\n",
       "      <td>A</td>\n",
       "      <td>IT</td>\n",
       "      <td>F</td>\n",
       "      <td>Father</td>\n",
       "      <td>15</td>\n",
       "      <td>16</td>\n",
       "      <td>2</td>\n",
       "      <td>20</td>\n",
       "      <td>Yes</td>\n",
       "      <td>Good</td>\n",
       "      <td>Under-7</td>\n",
       "      <td>M</td>\n",
       "    </tr>\n",
       "    <tr>\n",
       "      <th>1</th>\n",
       "      <td>M</td>\n",
       "      <td>KW</td>\n",
       "      <td>KuwaIT</td>\n",
       "      <td>lowerlevel</td>\n",
       "      <td>G-04</td>\n",
       "      <td>A</td>\n",
       "      <td>IT</td>\n",
       "      <td>F</td>\n",
       "      <td>Father</td>\n",
       "      <td>20</td>\n",
       "      <td>20</td>\n",
       "      <td>3</td>\n",
       "      <td>25</td>\n",
       "      <td>Yes</td>\n",
       "      <td>Good</td>\n",
       "      <td>Under-7</td>\n",
       "      <td>M</td>\n",
       "    </tr>\n",
       "    <tr>\n",
       "      <th>2</th>\n",
       "      <td>M</td>\n",
       "      <td>KW</td>\n",
       "      <td>KuwaIT</td>\n",
       "      <td>lowerlevel</td>\n",
       "      <td>G-04</td>\n",
       "      <td>A</td>\n",
       "      <td>IT</td>\n",
       "      <td>F</td>\n",
       "      <td>Father</td>\n",
       "      <td>10</td>\n",
       "      <td>7</td>\n",
       "      <td>0</td>\n",
       "      <td>30</td>\n",
       "      <td>No</td>\n",
       "      <td>Bad</td>\n",
       "      <td>Above-7</td>\n",
       "      <td>L</td>\n",
       "    </tr>\n",
       "    <tr>\n",
       "      <th>3</th>\n",
       "      <td>M</td>\n",
       "      <td>KW</td>\n",
       "      <td>KuwaIT</td>\n",
       "      <td>lowerlevel</td>\n",
       "      <td>G-04</td>\n",
       "      <td>A</td>\n",
       "      <td>IT</td>\n",
       "      <td>F</td>\n",
       "      <td>Father</td>\n",
       "      <td>30</td>\n",
       "      <td>25</td>\n",
       "      <td>5</td>\n",
       "      <td>35</td>\n",
       "      <td>No</td>\n",
       "      <td>Bad</td>\n",
       "      <td>Above-7</td>\n",
       "      <td>L</td>\n",
       "    </tr>\n",
       "    <tr>\n",
       "      <th>4</th>\n",
       "      <td>M</td>\n",
       "      <td>KW</td>\n",
       "      <td>KuwaIT</td>\n",
       "      <td>lowerlevel</td>\n",
       "      <td>G-04</td>\n",
       "      <td>A</td>\n",
       "      <td>IT</td>\n",
       "      <td>F</td>\n",
       "      <td>Father</td>\n",
       "      <td>40</td>\n",
       "      <td>50</td>\n",
       "      <td>12</td>\n",
       "      <td>50</td>\n",
       "      <td>No</td>\n",
       "      <td>Bad</td>\n",
       "      <td>Above-7</td>\n",
       "      <td>M</td>\n",
       "    </tr>\n",
       "  </tbody>\n",
       "</table>\n",
       "</div>"
      ],
      "text/plain": [
       "  gender NationalITy PlaceofBirth     StageID GradeID SectionID Topic  \\\n",
       "0      M          KW       KuwaIT  lowerlevel    G-04         A    IT   \n",
       "1      M          KW       KuwaIT  lowerlevel    G-04         A    IT   \n",
       "2      M          KW       KuwaIT  lowerlevel    G-04         A    IT   \n",
       "3      M          KW       KuwaIT  lowerlevel    G-04         A    IT   \n",
       "4      M          KW       KuwaIT  lowerlevel    G-04         A    IT   \n",
       "\n",
       "  Semester Relation  raisedhands  VisITedResources  AnnouncementsView  \\\n",
       "0        F   Father           15                16                  2   \n",
       "1        F   Father           20                20                  3   \n",
       "2        F   Father           10                 7                  0   \n",
       "3        F   Father           30                25                  5   \n",
       "4        F   Father           40                50                 12   \n",
       "\n",
       "   Discussion ParentAnsweringSurvey ParentschoolSatisfaction  \\\n",
       "0          20                   Yes                     Good   \n",
       "1          25                   Yes                     Good   \n",
       "2          30                    No                      Bad   \n",
       "3          35                    No                      Bad   \n",
       "4          50                    No                      Bad   \n",
       "\n",
       "  StudentAbsenceDays Class  \n",
       "0            Under-7     M  \n",
       "1            Under-7     M  \n",
       "2            Above-7     L  \n",
       "3            Above-7     L  \n",
       "4            Above-7     M  "
      ]
     },
     "execution_count": 3,
     "metadata": {},
     "output_type": "execute_result"
    }
   ],
   "source": [
    "df.head()"
   ]
  },
  {
   "cell_type": "code",
   "execution_count": 4,
   "id": "868148a0",
   "metadata": {},
   "outputs": [
    {
     "name": "stdout",
     "output_type": "stream",
     "text": [
      "<class 'pandas.core.frame.DataFrame'>\n",
      "RangeIndex: 480 entries, 0 to 479\n",
      "Data columns (total 17 columns):\n",
      " #   Column                    Non-Null Count  Dtype \n",
      "---  ------                    --------------  ----- \n",
      " 0   gender                    480 non-null    object\n",
      " 1   NationalITy               480 non-null    object\n",
      " 2   PlaceofBirth              480 non-null    object\n",
      " 3   StageID                   480 non-null    object\n",
      " 4   GradeID                   480 non-null    object\n",
      " 5   SectionID                 480 non-null    object\n",
      " 6   Topic                     480 non-null    object\n",
      " 7   Semester                  480 non-null    object\n",
      " 8   Relation                  480 non-null    object\n",
      " 9   raisedhands               480 non-null    int64 \n",
      " 10  VisITedResources          480 non-null    int64 \n",
      " 11  AnnouncementsView         480 non-null    int64 \n",
      " 12  Discussion                480 non-null    int64 \n",
      " 13  ParentAnsweringSurvey     480 non-null    object\n",
      " 14  ParentschoolSatisfaction  480 non-null    object\n",
      " 15  StudentAbsenceDays        480 non-null    object\n",
      " 16  Class                     480 non-null    object\n",
      "dtypes: int64(4), object(13)\n",
      "memory usage: 63.9+ KB\n"
     ]
    }
   ],
   "source": [
    "df.info()"
   ]
  },
  {
   "cell_type": "code",
   "execution_count": 5,
   "id": "857ccac1",
   "metadata": {},
   "outputs": [
    {
     "data": {
      "text/plain": [
       "(480, 17)"
      ]
     },
     "execution_count": 5,
     "metadata": {},
     "output_type": "execute_result"
    }
   ],
   "source": [
    "df.shape"
   ]
  },
  {
   "cell_type": "markdown",
   "id": "bc8fa191",
   "metadata": {},
   "source": [
    "# Data Preprocessing"
   ]
  },
  {
   "cell_type": "code",
   "execution_count": 6,
   "id": "9029d53a",
   "metadata": {},
   "outputs": [
    {
     "data": {
      "text/plain": [
       "gender                      0\n",
       "NationalITy                 0\n",
       "PlaceofBirth                0\n",
       "StageID                     0\n",
       "GradeID                     0\n",
       "SectionID                   0\n",
       "Topic                       0\n",
       "Semester                    0\n",
       "Relation                    0\n",
       "raisedhands                 0\n",
       "VisITedResources            0\n",
       "AnnouncementsView           0\n",
       "Discussion                  0\n",
       "ParentAnsweringSurvey       0\n",
       "ParentschoolSatisfaction    0\n",
       "StudentAbsenceDays          0\n",
       "Class                       0\n",
       "dtype: int64"
      ]
     },
     "execution_count": 6,
     "metadata": {},
     "output_type": "execute_result"
    }
   ],
   "source": [
    "df.isnull().sum()"
   ]
  },
  {
   "cell_type": "markdown",
   "id": "db422531",
   "metadata": {},
   "source": [
    "# Gain Ratio  "
   ]
  },
  {
   "cell_type": "code",
   "execution_count": 7,
   "id": "e66a0aec",
   "metadata": {},
   "outputs": [
    {
     "name": "stdout",
     "output_type": "stream",
     "text": [
      "Feature: StudentAbsenceDays, Gain Ratio: 0.40985604729775055\n",
      "Feature: ParentAnsweringSurvey, Gain Ratio: 0.1521204182611172\n",
      "Feature: Relation, Gain Ratio: 0.12910269555267578\n",
      "Feature: ParentschoolSatisfaction, Gain Ratio: 0.11053268870561037\n",
      "Feature: VisITedResources, Gain Ratio: 0.10899070630930605\n",
      "Feature: raisedhands, Gain Ratio: 0.10543396982816983\n",
      "Feature: AnnouncementsView, Gain Ratio: 0.0885844565039838\n",
      "Feature: Discussion, Gain Ratio: 0.06962672542762965\n",
      "Feature: gender, Gain Ratio: 0.054710963523470865\n",
      "Feature: NationalITy, Gain Ratio: 0.05229393174567407\n",
      "Feature: PlaceofBirth, Gain Ratio: 0.05076204757794688\n",
      "Feature: Topic, Gain Ratio: 0.022524972793114124\n",
      "Feature: GradeID, Gain Ratio: 0.01883022720159972\n",
      "Feature: Semester, Gain Ratio: 0.011828438745121517\n",
      "Feature: StageID, Gain Ratio: 0.008234863296715982\n",
      "Feature: SectionID, Gain Ratio: 0.00572140234773254\n"
     ]
    }
   ],
   "source": [
    "def entropy(data):\n",
    "    n = len(data)\n",
    "    value_counts = data.value_counts()\n",
    "    probabilities = value_counts / n\n",
    "    return -sum(probabilities * np.log2(probabilities))\n",
    "\n",
    "def gain_ratio(data, target_column, feature_column):\n",
    "    # Calculate the entropy of the target column\n",
    "    target_entropy = entropy(data[target_column])\n",
    "    \n",
    "    # Calculate the entropy of the feature column\n",
    "    feature_entropy = 0\n",
    "    total_examples = len(data)\n",
    "    for value in data[feature_column].unique():\n",
    "        subset = data[data[feature_column] == value]\n",
    "        prob_value = len(subset) / total_examples\n",
    "        feature_entropy += prob_value * entropy(subset[target_column])\n",
    "    \n",
    "    # Calculate the split information\n",
    "    split_info = entropy(data[feature_column])\n",
    "    \n",
    "    # Calculate the gain ratio\n",
    "    gain = target_entropy - feature_entropy\n",
    "    gain_ratio_value = gain / split_info if split_info != 0 else 0\n",
    "    \n",
    "    return gain_ratio_value\n",
    "\n",
    "# Example usage:\n",
    "# Assuming you have a dataset in a pandas DataFrame called 'data' and the target column is 'success'\n",
    "# Let's say we have three features 'feature1', 'feature2', and 'feature3'\n",
    "# Calculate the gain ratio for each feature\n",
    "\n",
    "features = df.drop('Class', axis=1).columns.tolist()\n",
    "target_column = 'Class'\n",
    "gain_ratios = {}\n",
    "\n",
    "for feature in features:\n",
    "    gain_ratios[feature] = gain_ratio(df, target_column, feature)\n",
    "\n",
    "# Sort the features based on gain ratio in descending order\n",
    "sorted_features = sorted(gain_ratios.items(), key=lambda x: x[1], reverse=True)\n",
    "\n",
    "# Print the ranked features\n",
    "for feature, gain_ratio_value in sorted_features:\n",
    "    print(f\"Feature: {feature}, Gain Ratio: {gain_ratio_value}\")"
   ]
  },
  {
   "cell_type": "code",
   "execution_count": 8,
   "id": "52b97a3b",
   "metadata": {},
   "outputs": [
    {
     "data": {
      "image/png": "[encoded data removed]",
      "text/plain": [
       "<Figure size 720x432 with 1 Axes>"
      ]
     },
     "metadata": {
      "needs_background": "light"
     },
     "output_type": "display_data"
    }
   ],
   "source": [
    "# Sort the features based on gain ratio in descending order\n",
    "sorted_features = sorted(gain_ratios.items(), key=lambda x: x[1], reverse=True)\n",
    "\n",
    "# Extract feature names and gain ratio values\n",
    "features = [feature for feature, _ in sorted_features]\n",
    "gain_ratio_values = [gain_ratio_value for _, gain_ratio_value in sorted_features]\n",
    "\n",
    "# Create a bar graph\n",
    "plt.figure(figsize=(10, 6))\n",
    "plt.barh(features, gain_ratio_values, color='blue')\n",
    "plt.xlabel('Gain Ratio')\n",
    "plt.ylabel('Features')\n",
    "plt.title('Feature Rankings based on Gain Ratio Technique')\n",
    "plt.tight_layout()\n",
    "plt.show()"
   ]
  },
  {
   "cell_type": "markdown",
   "id": "5b683e3d",
   "metadata": {},
   "source": [
    "# Data Transformation"
   ]
  },
  {
   "cell_type": "markdown",
   "id": "0c038952",
   "metadata": {},
   "source": [
    "# Data Mining Techniques"
   ]
  },
  {
   "cell_type": "code",
   "execution_count": 9,
   "id": "25dc120f",
   "metadata": {},
   "outputs": [
    {
     "name": "stdout",
     "output_type": "stream",
     "text": [
      "     gender  NationalITy  PlaceofBirth  StageID  GradeID  SectionID  Topic  \\\n",
      "0         1            4             4        2        1          0      7   \n",
      "1         1            4             4        2        1          0      7   \n",
      "2         1            4             4        2        1          0      7   \n",
      "3         1            4             4        2        1          0      7   \n",
      "4         1            4             4        2        1          0      7   \n",
      "..      ...          ...           ...      ...      ...        ...    ...   \n",
      "475       0            3             3        1        5          0      2   \n",
      "476       0            3             3        1        5          0      5   \n",
      "477       0            3             3        1        5          0      5   \n",
      "478       0            3             3        1        5          0      6   \n",
      "479       0            3             3        1        5          0      6   \n",
      "\n",
      "     Semester  Relation  raisedhands  VisITedResources  AnnouncementsView  \\\n",
      "0           0         0           15                16                  2   \n",
      "1           0         0           20                20                  3   \n",
      "2           0         0           10                 7                  0   \n",
      "3           0         0           30                25                  5   \n",
      "4           0         0           40                50                 12   \n",
      "..        ...       ...          ...               ...                ...   \n",
      "475         1         0            5                 4                  5   \n",
      "476         0         0           50                77                 14   \n",
      "477         1         0           55                74                 25   \n",
      "478         0         0           30                17                 14   \n",
      "479         1         0           35                14                 23   \n",
      "\n",
      "     Discussion  ParentAnsweringSurvey  ParentschoolSatisfaction  \\\n",
      "0            20                      1                         1   \n",
      "1            25                      1                         1   \n",
      "2            30                      0                         0   \n",
      "3            35                      0                         0   \n",
      "4            50                      0                         0   \n",
      "..          ...                    ...                       ...   \n",
      "475           8                      0                         0   \n",
      "476          28                      0                         0   \n",
      "477          29                      0                         0   \n",
      "478          57                      0                         0   \n",
      "479          62                      0                         0   \n",
      "\n",
      "     StudentAbsenceDays  Class  \n",
      "0                     1      2  \n",
      "1                     1      2  \n",
      "2                     0      1  \n",
      "3                     0      1  \n",
      "4                     0      2  \n",
      "..                  ...    ...  \n",
      "475                   0      1  \n",
      "476                   1      2  \n",
      "477                   1      2  \n",
      "478                   0      1  \n",
      "479                   0      1  \n",
      "\n",
      "[480 rows x 17 columns]\n"
     ]
    }
   ],
   "source": [
    "from sklearn.preprocessing import LabelEncoder\n",
    "\n",
    "# Initialize the LabelEncoder\n",
    "label_encoder = LabelEncoder()\n",
    "\n",
    "# Iterate over the columns and apply Label Encoding\n",
    "for col in df.columns:\n",
    "    if df[col].dtype == 'object':  # Check if the column is categorical\n",
    "        df[col] = label_encoder.fit_transform(df[col])\n",
    "\n",
    "print(df)"
   ]
  },
  {
   "cell_type": "code",
   "execution_count": 10,
   "id": "2647f0fc",
   "metadata": {},
   "outputs": [],
   "source": [
    "columns_to_drop = ['NationalITy','PlaceofBirth']\n",
    "df = df.drop(columns=columns_to_drop)"
   ]
  },
  {
   "cell_type": "markdown",
   "id": "20b4c78b",
   "metadata": {},
   "source": [
    "# Logistic Regression"
   ]
  },
  {
   "cell_type": "code",
   "execution_count": 11,
   "id": "3caa3eb9",
   "metadata": {},
   "outputs": [],
   "source": [
    "from sklearn.model_selection import train_test_split\n",
    "X=df.drop('Class',axis=1)\n",
    "y=df[\"Class\"]\n",
    "X_train,X_test,y_train,y_test=train_test_split(X,y,test_size=0.3,random_state=40)"
   ]
  },
  {
   "cell_type": "code",
   "execution_count": 12,
   "id": "36231c44",
   "metadata": {},
   "outputs": [
    {
     "name": "stderr",
     "output_type": "stream",
     "text": [
      "C:\\Users\\lenov\\anaconda3\\lib\\site-packages\\sklearn\\linear_model\\_logistic.py:814: ConvergenceWarning: lbfgs failed to converge (status=1):\n",
      "STOP: TOTAL NO. of ITERATIONS REACHED LIMIT.\n",
      "\n",
      "Increase the number of iterations (max_iter) or scale the data as shown in:\n",
      "    https://scikit-learn.org/stable/modules/preprocessing.html\n",
      "Please also refer to the documentation for alternative solver options:\n",
      "    https://scikit-learn.org/stable/modules/linear_model.html#logistic-regression\n",
      "  n_iter_i = _check_optimize_result(\n"
     ]
    },
    {
     "data": {
      "text/plain": [
       "LogisticRegression()"
      ]
     },
     "execution_count": 12,
     "metadata": {},
     "output_type": "execute_result"
    }
   ],
   "source": [
    "from sklearn.linear_model import LogisticRegression\n",
    "lr=LogisticRegression()\n",
    "lr.fit(X_train,y_train)"
   ]
  },
  {
   "cell_type": "markdown",
   "id": "c111ea50",
   "metadata": {},
   "source": [
    "# Testing"
   ]
  },
  {
   "cell_type": "code",
   "execution_count": 13,
   "id": "3c1dafb3",
   "metadata": {},
   "outputs": [
    {
     "name": "stdout",
     "output_type": "stream",
     "text": [
      "Accuracy Score:  0.6875\n",
      "CLASSIFICATION REPORT:               precision    recall  f1-score   support\n",
      "\n",
      "           0       0.59      0.66      0.62        35\n",
      "           1       0.73      0.84      0.78        38\n",
      "           2       0.72      0.62      0.67        71\n",
      "\n",
      "    accuracy                           0.69       144\n",
      "   macro avg       0.68      0.71      0.69       144\n",
      "weighted avg       0.69      0.69      0.69       144\n",
      "\n",
      "Confusion Matrix: [[23  1 11]\n",
      " [ 0 32  6]\n",
      " [16 11 44]]\n"
     ]
    }
   ],
   "source": [
    "from sklearn.metrics import accuracy_score,classification_report,confusion_matrix\n",
    "pred = lr.predict(X_test)\n",
    "l_acc=accuracy_score(y_test, pred)\n",
    "print(\"Accuracy Score: \", l_acc)\n",
    "cla=classification_report(y_test, pred)\n",
    "print(\"CLASSIFICATION REPORT:\",cla)\n",
    "conf_matrix = confusion_matrix(y_test, pred)\n",
    "print(\"Confusion Matrix:\",conf_matrix)"
   ]
  },
  {
   "cell_type": "code",
   "execution_count": 14,
   "id": "f1041149",
   "metadata": {},
   "outputs": [
    {
     "data": {
      "image/png": "[encoded data removed]",
      "text/plain": [
       "<Figure size 432x288 with 1 Axes>"
      ]
     },
     "metadata": {
      "needs_background": "light"
     },
     "output_type": "display_data"
    }
   ],
   "source": [
    "class0_precision = 0.59\n",
    "class0_recall = 0.66\n",
    "class0_f1 = 0.62\n",
    "\n",
    "class1_precision = 0.73\n",
    "class1_recall = 0.84\n",
    "class1_f1 = 0.78\n",
    "\n",
    "class2_precision = 0.72\n",
    "class2_recall = 0.62\n",
    "class2_f1 = 0.67\n",
    "\n",
    "# Set the positions and width for the bars\n",
    "positions = np.arange(3)\n",
    "width = 0.2\n",
    "\n",
    "# Create the grouped bar plot\n",
    "fig, ax = plt.subplots()\n",
    "rects1 = ax.bar(positions - width, [class0_precision, class0_recall, class0_f1], width, color='blue')\n",
    "rects2 = ax.bar(positions, [class1_precision, class1_recall, class1_f1], width, color='skyblue')\n",
    "rects3 = ax.bar(positions + width, [class2_precision, class2_recall, class2_f1], width, color='grey')\n",
    "\n",
    "# Add labels, title, and grid\n",
    "ax.set_ylabel('Scores')\n",
    "ax.set_title('Comparison of Precision, Recall, and F1-score for Each Class\\n')\n",
    "ax.set_xticks(positions)\n",
    "ax.set_xticklabels(['Precision', 'Recall', 'F1-score'])\n",
    "ax.grid(True)\n",
    "\n",
    "# Add values above each bar\n",
    "def autolabel(rects):\n",
    "    for rect in rects:\n",
    "        height = rect.get_height()\n",
    "        ax.annotate('{:.2f}'.format(height),\n",
    "                    xy=(rect.get_x() + rect.get_width() / 2, height),\n",
    "                    xytext=(0, 3),  # 3 points vertical offset\n",
    "                    textcoords=\"offset points\",\n",
    "                    ha='center', va='bottom')\n",
    "\n",
    "autolabel(rects1)\n",
    "autolabel(rects2)\n",
    "autolabel(rects3)\n",
    "\n",
    "plt.show()"
   ]
  },
  {
   "cell_type": "markdown",
   "id": "e1412bc0",
   "metadata": {},
   "source": [
    "# Training"
   ]
  },
  {
   "cell_type": "code",
   "execution_count": 15,
   "id": "e95e44fc",
   "metadata": {},
   "outputs": [
    {
     "name": "stdout",
     "output_type": "stream",
     "text": [
      "Accuracy Score:  0.7321428571428571\n",
      "CLASSIFICATION REPORT:               precision    recall  f1-score   support\n",
      "\n",
      "           0       0.72      0.71      0.72       107\n",
      "           1       0.79      0.87      0.83        89\n",
      "           2       0.69      0.66      0.68       140\n",
      "\n",
      "    accuracy                           0.73       336\n",
      "   macro avg       0.74      0.75      0.74       336\n",
      "weighted avg       0.73      0.73      0.73       336\n",
      "\n",
      "Confusion Matrix: [[76  2 29]\n",
      " [ 0 77 12]\n",
      " [29 18 93]]\n"
     ]
    }
   ],
   "source": [
    "pred_t = lr.predict(X_train)\n",
    "acc_t=accuracy_score(y_train, pred_t)\n",
    "print(\"Accuracy Score: \", acc_t)\n",
    "cla=classification_report(y_train, pred_t)\n",
    "print(\"CLASSIFICATION REPORT:\",cla)\n",
    "conf_matrix = confusion_matrix(y_train, pred_t)\n",
    "print(\"Confusion Matrix:\",conf_matrix)"
   ]
  },
  {
   "cell_type": "markdown",
   "id": "e9db101d",
   "metadata": {},
   "source": [
    "# SVM"
   ]
  },
  {
   "cell_type": "markdown",
   "id": "5fb2e95d",
   "metadata": {},
   "source": [
    "# Testing"
   ]
  },
  {
   "cell_type": "code",
   "execution_count": 16,
   "id": "d67bebfd",
   "metadata": {},
   "outputs": [
    {
     "name": "stdout",
     "output_type": "stream",
     "text": [
      "Accuracy:  0.7777777777777778\n",
      "CLASSIFICATION REPORT:               precision    recall  f1-score   support\n",
      "\n",
      "           0       0.70      0.86      0.77        35\n",
      "           1       0.80      0.84      0.82        38\n",
      "           2       0.82      0.70      0.76        71\n",
      "\n",
      "    accuracy                           0.78       144\n",
      "   macro avg       0.77      0.80      0.78       144\n",
      "weighted avg       0.78      0.78      0.78       144\n",
      "\n",
      "Confusion Matrix: [[30  0  5]\n",
      " [ 0 32  6]\n",
      " [13  8 50]]\n"
     ]
    }
   ],
   "source": [
    "from sklearn.svm import SVC\n",
    "svm=SVC(kernel='linear')\n",
    "svm.fit(X_train,y_train)\n",
    "y_pred=svm.predict(X_test)\n",
    "s_acc = accuracy_score(y_test, y_pred)\n",
    "print(\"Accuracy: \",s_acc)\n",
    "cla=classification_report(y_test,y_pred)\n",
    "print(\"CLASSIFICATION REPORT:\",cla)\n",
    "conf_matrix = confusion_matrix(y_test, y_pred)\n",
    "print(\"Confusion Matrix:\",conf_matrix)"
   ]
  },
  {
   "cell_type": "code",
   "execution_count": 17,
   "id": "4be01762",
   "metadata": {},
   "outputs": [
    {
     "data": {
      "image/png": "[encoded data removed]",
      "text/plain": [
       "<Figure size 432x288 with 1 Axes>"
      ]
     },
     "metadata": {
      "needs_background": "light"
     },
     "output_type": "display_data"
    }
   ],
   "source": [
    "class0_precision = 0.70\n",
    "class0_recall = 0.86\n",
    "class0_f1 = 0.77\n",
    "\n",
    "class1_precision = 0.80\n",
    "class1_recall = 0.84\n",
    "class1_f1 = 0.82\n",
    "\n",
    "class2_precision = 0.82\n",
    "class2_recall = 0.70\n",
    "class2_f1 = 0.76\n",
    "\n",
    "# Set the positions and width for the bars\n",
    "positions = np.arange(3)\n",
    "width = 0.2\n",
    "\n",
    "# Create the grouped bar plot\n",
    "fig, ax = plt.subplots()\n",
    "rects1 = ax.bar(positions - width, [class0_precision, class0_recall, class0_f1], width, color='blue')\n",
    "rects2 = ax.bar(positions, [class1_precision, class1_recall, class1_f1], width, color='skyblue')\n",
    "rects3 = ax.bar(positions + width, [class2_precision, class2_recall, class2_f1], width, color='grey')\n",
    "\n",
    "# Add labels, title, and grid\n",
    "ax.set_ylabel('Scores')\n",
    "ax.set_title('Comparison of Precision, Recall, and F1-score for Each Class\\n')\n",
    "ax.set_xticks(positions)\n",
    "ax.set_xticklabels(['Precision', 'Recall', 'F1-score'])\n",
    "ax.grid(True)\n",
    "\n",
    "# Add values above each bar\n",
    "def autolabel(rects):\n",
    "    for rect in rects:\n",
    "        height = rect.get_height()\n",
    "        ax.annotate('{:.2f}'.format(height),\n",
    "                    xy=(rect.get_x() + rect.get_width() / 2, height),\n",
    "                    xytext=(0, 3),  # 3 points vertical offset\n",
    "                    textcoords=\"offset points\",\n",
    "                    ha='center', va='bottom')\n",
    "\n",
    "autolabel(rects1)\n",
    "autolabel(rects2)\n",
    "autolabel(rects3)\n",
    "\n",
    "plt.show()"
   ]
  },
  {
   "cell_type": "markdown",
   "id": "d96399f1",
   "metadata": {},
   "source": [
    "# Training"
   ]
  },
  {
   "cell_type": "code",
   "execution_count": 18,
   "id": "9aa28791",
   "metadata": {},
   "outputs": [
    {
     "name": "stdout",
     "output_type": "stream",
     "text": [
      "Accuracy:  0.7827380952380952\n",
      "CLASSIFICATION REPORT:               precision    recall  f1-score   support\n",
      "\n",
      "           0       0.73      0.79      0.76       107\n",
      "           1       0.86      0.93      0.89        89\n",
      "           2       0.77      0.68      0.72       140\n",
      "\n",
      "    accuracy                           0.78       336\n",
      "   macro avg       0.79      0.80      0.79       336\n",
      "weighted avg       0.78      0.78      0.78       336\n",
      "\n",
      "Confusion Matrix: [[85  0 22]\n",
      " [ 0 83  6]\n",
      " [31 14 95]]\n"
     ]
    }
   ],
   "source": [
    "y_pred_t=svm.predict(X_train)\n",
    "acc_t = accuracy_score(y_train, y_pred_t)\n",
    "print(\"Accuracy: \",acc_t)\n",
    "cla=classification_report(y_train,y_pred_t)\n",
    "print(\"CLASSIFICATION REPORT:\",cla)\n",
    "conf_matrix = confusion_matrix(y_train, y_pred_t)\n",
    "print(\"Confusion Matrix:\",conf_matrix)"
   ]
  },
  {
   "cell_type": "markdown",
   "id": "9dc7fb6e",
   "metadata": {},
   "source": [
    "# Comparison of accuracies of both the models"
   ]
  },
  {
   "cell_type": "code",
   "execution_count": 19,
   "id": "8174f19e",
   "metadata": {},
   "outputs": [
    {
     "data": {
      "image/png": "[encoded data removed]",
      "text/plain": [
       "<Figure size 432x288 with 1 Axes>"
      ]
     },
     "metadata": {
      "needs_background": "light"
     },
     "output_type": "display_data"
    }
   ],
   "source": [
    "# Create a bar plot for accuracies\n",
    "plt.bar(['Logistic Regression'], [l_acc], color='skyblue', label='Logistic Regression')\n",
    "plt.bar(['SVM'], [s_acc], color='blue', label='XGBoost')\n",
    "plt.xlabel('Classifier')\n",
    "plt.ylabel('Accuracy')\n",
    "plt.title('Comparison of Logistic Regression and SVM Accuracies\\n')\n",
    "plt.ylim(0, 1)\n",
    "plt.legend()\n",
    "plt.grid(True)\n",
    "plt.show()"
   ]
  },
  {
   "cell_type": "code",
   "execution_count": 21,
   "id": "85ca0c80",
   "metadata": {},
   "outputs": [
    {
     "data": {
      "image/png": "[encoded data removed]",
      "text/plain": [
       "<Figure size 432x288 with 1 Axes>"
      ]
     },
     "metadata": {
      "needs_background": "light"
     },
     "output_type": "display_data"
    }
   ],
   "source": [
    "# Store the accuracies in a list of lists\n",
    "accuracies = [[l_acc], [s_acc]]\n",
    "\n",
    "# Create a box plot for accuracies of both models without outliers\n",
    "plt.boxplot(accuracies, labels=['LR', 'SVM'], patch_artist=True)\n",
    "plt.ylabel('Accuracy')\n",
    "plt.title('Comparison of LR and SVM Accuracies\\n')\n",
    "plt.ylim(0, 1)\n",
    "plt.grid(False)\n",
    "plt.show()"
   ]
  },
  {
   "cell_type": "code",
   "execution_count": null,
   "id": "c3c68dd8",
   "metadata": {},
   "outputs": [],
   "source": []
  }
 ],
 "metadata": {
  "kernelspec": {
   "display_name": "Python 3 (ipykernel)",
   "language": "python",
   "name": "python3"
  },
  "language_info": {
   "codemirror_mode": {
    "name": "ipython",
    "version": 3
   },
   "file_extension": ".py",
   "mimetype": "text/x-python",
   "name": "python",
   "nbconvert_exporter": "python",
   "pygments_lexer": "ipython3",
   "version": "3.9.12"
  }
 },
 "nbformat": 4,
 "nbformat_minor": 5
}
